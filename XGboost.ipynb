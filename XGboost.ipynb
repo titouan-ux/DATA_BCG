{
  "nbformat": 4,
  "nbformat_minor": 0,
  "metadata": {
    "colab": {
      "provenance": [],
      "gpuType": "T4",
      "authorship_tag": "ABX9TyP2wPpFnygdXxv2i/im3QLQ",
      "include_colab_link": true
    },
    "kernelspec": {
      "name": "python3",
      "display_name": "Python 3"
    },
    "language_info": {
      "name": "python"
    },
    "accelerator": "GPU"
  },
  "cells": [
    {
      "cell_type": "markdown",
      "metadata": {
        "id": "view-in-github",
        "colab_type": "text"
      },
      "source": [
        "<a href=\"https://colab.research.google.com/github/titouan-ux/DATA_BCG/blob/main/XGboost.ipynb\" target=\"_parent\"><img src=\"https://colab.research.google.com/assets/colab-badge.svg\" alt=\"Open In Colab\"/></a>"
      ]
    },
    {
      "cell_type": "code",
      "execution_count": 1,
      "metadata": {
        "colab": {
          "base_uri": "https://localhost:8080/"
        },
        "id": "tZoqrv39fFty",
        "outputId": "3a37b34a-d4de-4fd6-be52-2a986ba20556"
      },
      "outputs": [
        {
          "output_type": "stream",
          "name": "stdout",
          "text": [
            "Requirement already satisfied: xgboost in /usr/local/lib/python3.10/dist-packages (2.0.2)\n",
            "Requirement already satisfied: numpy in /usr/local/lib/python3.10/dist-packages (from xgboost) (1.23.5)\n",
            "Requirement already satisfied: scipy in /usr/local/lib/python3.10/dist-packages (from xgboost) (1.11.4)\n"
          ]
        }
      ],
      "source": [
        "!pip install --upgrade xgboost\n",
        "\n",
        "import seaborn as sns\n",
        "import pandas as pd\n",
        "import numpy as np\n",
        "import matplotlib.pyplot as plt\n",
        "import warnings\n",
        "\n",
        "from sklearn.model_selection import train_test_split\n"
      ]
    },
    {
      "cell_type": "code",
      "source": [
        "df_train=pd.read_csv(\"Train.csv\")\n",
        "\n",
        "df_train=df_train.drop(columns='Unnamed: 0')\n",
        "df_train_modified=df_train[['year','id arc', 'id noeud amont',\n",
        "       'id noeud aval', 'etat trafic', 'etat arc', 'Temp', 'Pluie 1h',\n",
        "       'Pluie 3h', 'Neige', 'Visibilité Horiz', 'cos_hour', 'sin_hour',\n",
        "       'cos_day', 'sin_day', 'cos_month', 'sin_month', 'débit horaire',\n",
        "       'taux occupation']]\n",
        "\n",
        "X = df_train_modified.iloc[:, :-2]\n",
        "y1 = df_train_modified[[\"débit horaire\"]]\n",
        "y2 = df_train_modified[[\"taux occupation\"]]\n",
        "\n",
        "\n",
        "X_train, X_test, y1_train, y1_test = train_test_split(X, y1, test_size= 0.2, random_state=1)\n",
        "X_train, X_test, y2_train, y2_test = train_test_split(X, y2, test_size= 0.2, random_state=1)"
      ],
      "metadata": {
        "id": "OmLQbl-BfY1s"
      },
      "execution_count": 3,
      "outputs": []
    },
    {
      "cell_type": "code",
      "source": [
        "import xgboost as xgb\n",
        "\n",
        "# Create regression matrices\n",
        "dtrain_reg = xgb.DMatrix(X_train, y1_train, enable_categorical=True)\n",
        "dtest_reg = xgb.DMatrix(X_test, y1_test, enable_categorical=True)"
      ],
      "metadata": {
        "id": "tEVvQuwhfnPO"
      },
      "execution_count": 4,
      "outputs": []
    },
    {
      "cell_type": "code",
      "source": [
        "# Define hyperparameters\n",
        "params = {\"objective\": \"reg:squarederror\", \"tree_method\": \"gpu_hist\"}\n",
        "\n",
        "n = 100\n",
        "model = xgb.train(\n",
        "   params=params,\n",
        "   dtrain=dtrain_reg,\n",
        "   num_boost_round=n,\n",
        ")\n"
      ],
      "metadata": {
        "colab": {
          "base_uri": "https://localhost:8080/"
        },
        "id": "0K0lHsyufoYo",
        "outputId": "8723d449-70fa-4905-c0f4-8b5cd618ee8c"
      },
      "execution_count": 5,
      "outputs": [
        {
          "output_type": "stream",
          "name": "stderr",
          "text": [
            "/usr/local/lib/python3.10/dist-packages/xgboost/core.py:160: UserWarning: [15:03:36] WARNING: /workspace/src/common/error_msg.cc:27: The tree method `gpu_hist` is deprecated since 2.0.0. To use GPU training, set the `device` parameter to CUDA instead.\n",
            "\n",
            "    E.g. tree_method = \"hist\", device = \"cuda\"\n",
            "\n",
            "  warnings.warn(smsg, UserWarning)\n"
          ]
        }
      ]
    },
    {
      "cell_type": "code",
      "source": [
        "from sklearn.metrics import mean_squared_error\n",
        "\n",
        "preds = model.predict(dtest_reg)\n",
        "\n",
        "rmse = mean_squared_error(y1_test, preds, squared=False)\n",
        "\n",
        "print(f\"RMSE of the base model: {rmse:.3f}\")"
      ],
      "metadata": {
        "colab": {
          "base_uri": "https://localhost:8080/"
        },
        "id": "E25fhlyIgbI_",
        "outputId": "79da3138-c925-4e2c-8c21-901f3f7479fc"
      },
      "execution_count": 6,
      "outputs": [
        {
          "output_type": "stream",
          "name": "stdout",
          "text": [
            "RMSE of the base model: 99.764\n"
          ]
        },
        {
          "output_type": "stream",
          "name": "stderr",
          "text": [
            "/usr/local/lib/python3.10/dist-packages/xgboost/core.py:160: UserWarning: [15:03:49] WARNING: /workspace/src/common/error_msg.cc:27: The tree method `gpu_hist` is deprecated since 2.0.0. To use GPU training, set the `device` parameter to CUDA instead.\n",
            "\n",
            "    E.g. tree_method = \"hist\", device = \"cuda\"\n",
            "\n",
            "  warnings.warn(smsg, UserWarning)\n"
          ]
        }
      ]
    }
  ]
}